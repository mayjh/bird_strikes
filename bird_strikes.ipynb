{
  "cells": [
    {
      "metadata": {
        "collapsed": false,
        "_execution_state": "idle",
        "_uuid": "00fa864fd4970593e4f998113fc104f9b93f19a2",
        "_cell_guid": "cf73c3ce-b600-494e-8a97-81963b9a945f"
      },
      "outputs": [],
      "cell_type": "markdown",
      "execution_count": null,
      "source": "# A Bird's-Eye View of Bird Strikes\n\n_May Shen, j.shen33@gmail.com_\n\n_July 07 2017_\n\n# Table of contents\n1. [Introduction](#introduction)\n\n2. [Descriptive Statistics](#descriptive)\n    1. [What types of aircrafts are involved in bird strikes?](#descriptive1)\n    2. [What kinds of birds are involved in bird strikes?](#descriptive2)\n    3. [What are the flight statuses during bird strikes?](#descriptive3)\n    4. [What are the geological locations of bird strikes?](#descriptive4)\n    5. [What times do bird strikes occur?](#descriptive5)\n    6. [What are the consequences of bird strikes?](#descriptive6)\n\n3. [Inferential Statistics](#inferential)\n    1. [Logistic Regression](#inferential1)\n    2. [Support Vector Machines](#inferential12)\n    3. [Random Forests](#inferential13)\n    4. [K-Nearest Neighbors](#inferential14)\n    5. [Gaussian Naive Bayes](#inferential15)\n    6. [Model Summary](#inferential16)\n    7. [Correlation Coefficients](#inferential17)\n4. [Conclusions and Suggestions](#conclusion)\n    \n## Introduction <a name=\"introduction\"></a>\n\nIn this report, I analyze a data set on bird strikes, focusing on six aspects in the data, including aircraft information, bird information, flight information, time, location, and outcome. The goal is to better understand the causes of bird strikes and propose actionable recommendations to prevent such events.\n\n## Descriptive Statistics <a name=\"descriptive\"></a>\n\nIn this section, a series of descriptive analyses will be performed with the data to better understand the seven aforementioned aspects of bird strikes. \n\n### Data Import\n\nThe bird strikes data set is imported into Python. The first five rows of data are shown."
    },
    {
      "metadata": {
        "collapsed": false,
        "_execution_state": "idle",
        "_uuid": "5dc05cc394daa6a1e53ebee457ea8b48c82b5d9b",
        "_cell_guid": "b54528b2-c792-4b80-b6d8-3693dcef1341",
        "trusted": false
      },
      "outputs": [],
      "cell_type": "code",
      "execution_count": 2,
      "source": "# import libraries\nimport numpy as np\nimport pandas as pd \nfrom matplotlib import pyplot as plt\nimport matplotlib\n%matplotlib inline\nimport seaborn as sns\nfrom collections import Counter\nfrom sklearn.metrics import mean_squared_error\nfrom pandas import concat\nfrom pandas import Series, DataFrame\n# machine learning\nfrom sklearn.preprocessing import scale\nfrom sklearn import metrics\nfrom sklearn.cross_validation import cross_val_score\nfrom sklearn.cross_validation import train_test_split\nfrom sklearn.linear_model import LogisticRegression\nfrom sklearn.svm import SVC, LinearSVC\nfrom sklearn.ensemble import RandomForestClassifier\nfrom sklearn.neighbors import KNeighborsClassifier\nfrom sklearn.naive_bayes import GaussianNB\n\npd.set_option('display.max_columns', 100)"
    },
    {
      "metadata": {
        "collapsed": false,
        "_execution_state": "idle",
        "_uuid": "cb9e48c3d04845c51f00265116ca3c00ee149595",
        "_cell_guid": "ce52483b-a823-4b09-a306-a8c38785c23d",
        "trusted": false
      },
      "outputs": [],
      "cell_type": "code",
      "execution_count": 3,
      "source": "# import in the bird strikes data set\nbird = pd.read_csv(\"../input/Bird Strikes Test.csv\", low_memory=False, thousands=',')\n# only drop rows that are all NA:\nbird = bird.dropna(how='all')"
    },
    {
      "metadata": {
        "collapsed": false,
        "_execution_state": "idle",
        "_uuid": "d3dfb3eb95a76cdce4d62e661aabc6798472d468",
        "_cell_guid": "8d8cc9c5-5be1-4f5c-b102-f495a59f0c9b",
        "trusted": false
      },
      "outputs": [],
      "cell_type": "code",
      "execution_count": 4,
      "source": "# take a look at the first 5 rows of data\nbird.head()"
    },
    {
      "metadata": {
        "collapsed": false,
        "_execution_state": "idle",
        "_uuid": "abe7d5d23a44611dde2a07cdfd2080f10fa9917f",
        "_cell_guid": "73761988-dd12-497d-b663-49e153a903de"
      },
      "outputs": [],
      "cell_type": "markdown",
      "execution_count": null,
      "source": "Information on each variable in the data is shown below. From the below information, we can see that this is a relatively large data set with 65610 entries, with tons of missing data. There are 6 major components in the data, including aircraft information, bird information, flight information, time, location, and outcome. The list below outlines the variables that will be examined for each component.\n\n1. aircraft information (including _Aircraft: Make/Model_, _Aircraft: Number of engines_, and _Aircraft: Airline/Operator_)\n2. bird information (including _Wildlife: Size_, and _Wildlife: Species_)\n3. flight information (including _When: Phase of flight_, _Miles from airport_, _Feet above ground_, and _Speed (IAS) in knots_)\n4. time (_FlightDate_ and _When: Time (HHMM)_)\n5. location (_Airport: Name_)\n6. outcome (_Cost: Total \\$_ and _Effect: Indicated Damage_) \n\nInformation on the number of records and data types of all variables are shown below."
    },
    {
      "metadata": {
        "collapsed": false,
        "_execution_state": "idle",
        "_uuid": "ea5561cc849f1debb835a82f53bca205b498e5c1",
        "_cell_guid": "5f856c25-c0c7-4d32-a082-e2da749a6381",
        "trusted": false
      },
      "outputs": [],
      "cell_type": "code",
      "execution_count": 5,
      "source": "# check the number of entries and data type for each variable\nbird.info()"
    },
    {
      "metadata": {
        "collapsed": false,
        "_execution_state": "idle",
        "_uuid": "ed572febc2207ac55811e451f82a5f25a73063a7",
        "_cell_guid": "99242b93-6be7-48dd-a484-1596f5e4de63",
        "trusted": false
      },
      "outputs": [],
      "cell_type": "code",
      "execution_count": 6,
      "source": "# get a quick description of non-null numeric values in the data\nbird.drop(['Record ID'], axis=1).describe()"
    },
    {
      "metadata": {
        "collapsed": false,
        "_execution_state": "idle",
        "_uuid": "10177796d749a3f82ff00d20e578d55abdf184d0",
        "_cell_guid": "cb43b992-5fac-465f-b872-fbc56ac5a14b"
      },
      "outputs": [],
      "cell_type": "markdown",
      "execution_count": null,
      "source": "The description of non-null numeric values shows that this data set is fairly unbalanced. For example, the median of total cost is 0, while the maximum is 37.95 million. This makes sense because most of the bird strikes would not cause any damage to the airplane. Only few bird strikes would lead to accidents, sometimes with human casualties. \n\nGiven the unbalanceness in the data, each descriptive statistic will be performed with both the whole data set and the subset with any damage. This issue of unbalanced data will also be addressed before modeling work.\n\nNext, specific descriptive questions will be asked about seven aspects of bird strikes. Abnormal data record will be processed along the way."
    },
    {
      "metadata": {
        "collapsed": false,
        "_execution_state": "idle",
        "_uuid": "d5fc243620402d74cba88dccb3e8423db69d6404",
        "_cell_guid": "458324f2-3ec1-4949-b685-8f5df182c036",
        "trusted": false
      },
      "outputs": [],
      "cell_type": "code",
      "execution_count": 7,
      "source": "# subset the data with any damage or negative impact to the flight\nbird_dmg = bird.loc[(bird['Effect: Indicated Damage'] != 'No damage') | \n                    (bird['Cost: Total $'] > 0) ]"
    },
    {
      "metadata": {
        "collapsed": false,
        "_execution_state": "idle",
        "_uuid": "34683d9a270aa179b80341222fd47144d96c9350",
        "_cell_guid": "0862e435-3af1-488b-884a-fcd16e9b94b5"
      },
      "outputs": [],
      "cell_type": "markdown",
      "execution_count": null,
      "source": "### What types of aircrafts are involved in bird strikes? <a name=\"descriptive1\"></a>\n\nSeveral variables related to aircraft information will be used to answer this question, including _Aircraft: Make/Model_, _Aircraft: Number of engines_, and _Aircraft: Airline/Operator_. \n\nFirst, a table of counts over aircraft types and number of engines are shown:"
    },
    {
      "metadata": {
        "collapsed": false,
        "_execution_state": "idle",
        "_uuid": "588b1829e53265ddf1071409a3b602ead91fffa8",
        "_cell_guid": "e45f7a8b-4042-4ecb-927d-efcba823206b",
        "trusted": false
      },
      "outputs": [],
      "cell_type": "code",
      "execution_count": 8,
      "source": "# get a table of number of strikes across aircraft type and aircraft engine numbers\ncount_air_type = DataFrame({'count' : bird.groupby( ['Aircraft: Number of engines?'] ).size()}).reset_index()\ncount_air_type.sort_values(['count'], ascending=0)"
    },
    {
      "metadata": {
        "collapsed": false,
        "_execution_state": "idle",
        "_uuid": "547330976ace6c9dceb6b512525af03e15b4cba7",
        "_cell_guid": "515c402d-b30c-4377-9aa5-f4415f388a52"
      },
      "outputs": [],
      "cell_type": "markdown",
      "execution_count": null,
      "source": "The entry \"S\" may be data entry errors as \"S\" does not make sense as engine number. This entry is marked as NA. Afterwards, a plot of counts over aircraft type and number of engines is generated:"
    },
    {
      "metadata": {
        "collapsed": false,
        "_execution_state": "idle",
        "_uuid": "d47553e0b76ce9687852523b771e7a26febf836a",
        "_cell_guid": "63346447-5b86-4f6d-b4cb-bd8acfe9e8d4",
        "trusted": false
      },
      "outputs": [],
      "cell_type": "code",
      "execution_count": 9,
      "source": "# set abnormal entries for Aircraft: Number of engines? to be NaN\nbird.loc[(bird['Aircraft: Number of engines?'] == 'S'),'Aircraft: Number of engines?'] = np.nan\n\n# update bird_dmg as well\nbird_dmg = bird.loc[(bird['Effect: Indicated Damage'] != 'No damage') | \n                    (bird['Cost: Total $'] > 0) ]\n\n# re-generate count table\ncount_air_type = DataFrame({'count' : bird.groupby( ['Aircraft: Number of engines?'] ).size()}).reset_index()\n# plot the frequency of Aircraft: Number of engines?\nfig_air_type = sns.barplot(x=u'Aircraft: Number of engines?', y='count', data=count_air_type)\nfig_air_type.set(xlabel='Aircraft: Number of Engines', ylabel='Counts - All Strikes');\nfig_air_type.set_title('The Frequency of All Strikes Over Aircraft Number of Engines');"
    },
    {
      "metadata": {
        "collapsed": false,
        "_execution_state": "idle",
        "_uuid": "857f0084a0a7b4d8008ae486f9b382ae04685363",
        "_cell_guid": "b9e72cd7-1042-44bd-a727-61728216ca8a"
      },
      "outputs": [],
      "cell_type": "markdown",
      "execution_count": null,
      "source": "The bar plot above shows that bird strikes occur to airplanes with 2 engines the most frequently. However, this is merely a frequency description, by no means suggesting that such aircraft type is more prone to bird strikes. The reason could simply be that such aircraft is the most popular aircraft in the sky.\n\nThe bar plot below with only damaging strikes rather than all strikes shows that airplanes with 2 engines still is the most frequently struck. However, among all aircrafts struck with birds, one-engine aircrafts are damaged disproportionately. This makes sense because without a back-up engine, one-engine aircrafts are indeed more prone to damages once struck."
    },
    {
      "metadata": {
        "collapsed": false,
        "_execution_state": "idle",
        "_uuid": "98bb97ea052fd0177385209fe1bf9b81f3a6e23c",
        "_cell_guid": "70285032-110a-498e-a716-6f0b9b76624d",
        "trusted": false
      },
      "outputs": [],
      "cell_type": "code",
      "execution_count": 10,
      "source": "# table for damaging stikes\ncount_air_type0 = DataFrame({'count' : bird_dmg.groupby( [ 'Aircraft: Number of engines?'] ).size()}).reset_index()\ncount_air_type0['All Strikes Counts'] = count_air_type['count']\ncount_air_type0['Damage Rate'] = count_air_type0['count']/count_air_type0['All Strikes Counts']\n# plot the frequency of Aircraft: Number of engines?\nfig_air_type0 = sns.barplot(x=u'Aircraft: Number of engines?', y='count', data=count_air_type0)\nfig_air_type0.set(xlabel='Aircraft: Number of Engines', ylabel='Counts - Damaging Strikes');\nfig_air_type0.set_title('The Frequency of Damaging Strikes Over \\n Aircraft Number of Engines');"
    },
    {
      "metadata": {
        "collapsed": false,
        "_execution_state": "idle",
        "_uuid": "4db293c2245b9c177eb380227a5af75eddb43e9e",
        "_cell_guid": "fd8151fa-3764-47a5-9155-e39f5c4e906e",
        "trusted": false
      },
      "outputs": [],
      "cell_type": "code",
      "execution_count": 11,
      "source": "# plot the damage rate of Aircraft: Number of engines?\nfig_air_type01 = sns.barplot(x=u'Aircraft: Number of engines?', y='Damage Rate', data=count_air_type0)\nfig_air_type01.set(xlabel='Aircraft: Number of Engines', ylabel='Damage Rate');\nfig_air_type01.set_title('Damage Rate Over Aircraft Number of Engines');"
    },
    {
      "metadata": {
        "collapsed": false,
        "_execution_state": "idle",
        "_uuid": "5c5363c1e848dc504652c5355fb95930c603bede",
        "_cell_guid": "16976bc9-0fc9-4924-bacb-f941f5d44d09"
      },
      "outputs": [],
      "cell_type": "markdown",
      "execution_count": null,
      "source": "The above bar plot shows the rate of any damage once an aircraft is struck. It suggests that one-engine airplanes are the most prone to damage once struck.\n\nTwo more pieces of information on aircraft are provided below. First, this table shows the top ten most frequent aircraft operators. Among airlines or operators, military operated aircrafts are the most frequently struck. "
    },
    {
      "metadata": {
        "collapsed": false,
        "_execution_state": "idle",
        "_uuid": "28d60aeaa92dd48e59a39752eacd43b34b8940d5",
        "_cell_guid": "e517817d-70b5-4f9c-9afa-9ce2be35c7ae",
        "trusted": false
      },
      "outputs": [],
      "cell_type": "code",
      "execution_count": 12,
      "source": "count_air_n_eng = DataFrame({'count' : bird.groupby( ['Aircraft: Airline/Operator'] ).size()}).reset_index()\ncount_air_n_eng.sort_values(['count'], ascending=0).head(10)"
    },
    {
      "metadata": {
        "collapsed": false,
        "_execution_state": "idle",
        "_uuid": "1e0732f2bfc164a2f6d5e12e58cc4c425872bc05",
        "_cell_guid": "f017712b-a01e-4622-af7c-6f15f947a33a",
        "trusted": false
      },
      "outputs": [],
      "cell_type": "code",
      "execution_count": 13,
      "source": "count_air_n_eng0 = DataFrame({'count' : bird_dmg.groupby( ['Aircraft: Airline/Operator'] ).size()}).reset_index()\ncount_air_n_eng0.sort_values(['count'], ascending=0).head(10)"
    },
    {
      "metadata": {
        "collapsed": false,
        "_execution_state": "idle",
        "_uuid": "a8bda7929f75629ff2a401b136961d2bd80342b5",
        "_cell_guid": "26c09b13-7176-4b0a-8ff4-f67f09dd88cb"
      },
      "outputs": [],
      "cell_type": "markdown",
      "execution_count": null,
      "source": "Military operated aircrafts are still high on the list, but business operated aircrafts climbs to the top of aircrafts struck if we focus only on damaging strikes.\n\nSecond, the table below shows the top ten aircraft makes/models. Among all aircraft makes or models, Boeing 737 300 series are the most frequently struck. Again, no inference is made at this point, since the frequency could simply be a result of the popularity of these makes/models."
    },
    {
      "metadata": {
        "collapsed": false,
        "_execution_state": "idle",
        "_uuid": "a200700a6d041f175a67a5c781363de92859a629",
        "_cell_guid": "cd4d169b-9704-4fcc-9ede-c55b5ace8d9e",
        "trusted": false
      },
      "outputs": [],
      "cell_type": "code",
      "execution_count": 14,
      "source": "count_air_make = DataFrame({'count' : bird.groupby( ['Aircraft: Make/Model'] ).size()}).reset_index()\ncount_air_make.sort_values(['count'], ascending=0).head(10)"
    },
    {
      "metadata": {
        "collapsed": false,
        "_execution_state": "idle",
        "_uuid": "dc5cc386ce6395957990a4b88115396539ba1023",
        "_cell_guid": "412ca4ae-0bf5-4365-b84f-6d7521170fc8"
      },
      "outputs": [],
      "cell_type": "markdown",
      "execution_count": null,
      "source": "A similar table with damaging strikes:"
    },
    {
      "metadata": {
        "collapsed": false,
        "_execution_state": "idle",
        "_uuid": "91f2feaf5b078495139f34a7c3e01c84b40733f4",
        "_cell_guid": "e2b6bd42-8d2b-461b-887a-b0dfc4ca1b58",
        "trusted": false
      },
      "outputs": [],
      "cell_type": "code",
      "execution_count": 15,
      "source": "count_air_make0 = DataFrame({'count' : bird_dmg.groupby( ['Aircraft: Make/Model'] ).size()}).reset_index()\ncount_air_make0.sort_values(['count'], ascending=0).head(10)"
    },
    {
      "metadata": {
        "collapsed": false,
        "_execution_state": "idle",
        "_uuid": "4e45c3e69491f12c7576e52d14e93d2ac02d56bf",
        "_cell_guid": "801dd5dc-e63a-4d76-9a1e-617f394ea156"
      },
      "outputs": [],
      "cell_type": "markdown",
      "execution_count": null,
      "source": "Together, the analyses show that two-engine aircrafts are most frequently struck. But one-engine aircrafts are more prone to damages once struck."
    },
    {
      "metadata": {
        "collapsed": false,
        "_execution_state": "idle",
        "_uuid": "85f33334e4c2b919a6c8e093c39975a3db8de2ee",
        "_cell_guid": "c69f0ef6-fbe9-4487-bcb8-c85aab16b078"
      },
      "outputs": [],
      "cell_type": "markdown",
      "execution_count": null,
      "source": "### What kinds of birds are involved in bird strikes? <a name=\"descriptive2\"></a>\n\nThis section focuses on variables including _Wildlife: Size_, and _Wildlife: Species_ to describe the birds involved.\n\nThe following table shows the top 10 bird species involved in all strikes:"
    },
    {
      "metadata": {
        "collapsed": false,
        "_execution_state": "idle",
        "_uuid": "b3d16e522554183481a2937dc60a6ff120c8a0bc",
        "_cell_guid": "a5d514af-07f6-439b-a23d-ce70538b0915",
        "trusted": false
      },
      "outputs": [],
      "cell_type": "code",
      "execution_count": 16,
      "source": "# top 10 bird species - all strikes\ncount_species = DataFrame({'count' : bird.groupby( ['Wildlife: Species'] ).size()}).reset_index()\ncount_species.sort_values(['count'], ascending=0).head(10)"
    },
    {
      "metadata": {
        "collapsed": false,
        "_execution_state": "idle",
        "_uuid": "733ea5f1a949c6b8db8f48dd2c2daed56677496e",
        "_cell_guid": "958737a1-4c3d-4fa6-87f9-ac15a8840b60"
      },
      "outputs": [],
      "cell_type": "markdown",
      "execution_count": null,
      "source": "A lot of birds are missing species information, but luckily many have size information available in the data. A table of top 10 birds causing damages is shown below."
    },
    {
      "metadata": {
        "collapsed": false,
        "_execution_state": "idle",
        "_uuid": "69e8884e653e28bc0b522bba857a9bdbde32f22a",
        "_cell_guid": "b77edd7d-c1e7-4217-94c7-30defc4faddb",
        "trusted": false
      },
      "outputs": [],
      "cell_type": "code",
      "execution_count": 17,
      "source": "# top 10 bird species causing damages\ncount_species0 = DataFrame({'count' : bird_dmg.groupby( ['Wildlife: Species'] ).size()}).reset_index()\ncount_species0.sort_values(['count'], ascending=0).head(10)"
    },
    {
      "metadata": {
        "collapsed": false,
        "_execution_state": "idle",
        "_uuid": "118576714ae07ebb9f7aeb58d8db715f610b0aaf",
        "_cell_guid": "21d148c6-1b6e-493b-9733-7fc665812528"
      },
      "outputs": [],
      "cell_type": "markdown",
      "execution_count": null,
      "source": "The list above looks different from the list of birds from all strikes. Particularly, large birds like vulture, hawk, and goose now appear on the top 10 list. This suggests that large birds cause damage more frequently once the bird hit the aircraft.\n\nThe bar plot below shows the frequency of strikes over the bird size information."
    },
    {
      "metadata": {
        "collapsed": false,
        "_execution_state": "idle",
        "_uuid": "6180c99c05b34ae31eb8b15a75c53c4d35e949f3",
        "_cell_guid": "13e663e5-91f4-4e68-b6a8-543e226ac803",
        "trusted": false
      },
      "outputs": [],
      "cell_type": "code",
      "execution_count": 18,
      "source": "# count of strikes by bird size \ncount_bird = DataFrame({'count' : bird.groupby( ['Wildlife: Size'] ).size()}).reset_index()\n# plot the frequency of all strikes over Wildlife: Size\nfig_bird = sns.barplot(x=u'Wildlife: Size', y='count', data=count_bird)\nfig_bird.set(ylabel='Count - All Strikes',xlabel='Wildlife Size');\nfig_bird.set_title('The Frequency of All Strikes over Wildlife Size');"
    },
    {
      "metadata": {
        "collapsed": false,
        "_execution_state": "idle",
        "_uuid": "3c43ced315879005437e8afe3ab849a1670da829",
        "_cell_guid": "91ebae2c-b5f4-4acf-8dd6-12148d313f8e"
      },
      "outputs": [],
      "cell_type": "markdown",
      "execution_count": null,
      "source": "A similar bar plot is shown below for only damaging strikes:"
    },
    {
      "metadata": {
        "collapsed": false,
        "_execution_state": "idle",
        "_uuid": "ecc5533379353368e6348ff934f7db892256e21c",
        "_cell_guid": "0e3edd81-bb2d-4eda-bcf0-2993a0a95092",
        "trusted": false
      },
      "outputs": [],
      "cell_type": "code",
      "execution_count": 19,
      "source": "# count of strikes by bird size\ncount_bird0 = DataFrame({'count' : bird_dmg.groupby( ['Wildlife: Size'] ).size()}).reset_index()\ncount_bird0['All Strikes Counts'] = count_bird['count']\ncount_bird0['Damage Rate'] = count_bird0['count']/count_bird0['All Strikes Counts']\n\n# plot the frequency of damaging strikes Wildlife: Number struck and Wildlife: Size\nfig_bird0 = sns.barplot(x=u'Wildlife: Size', y='count', data=count_bird0)\nfig_bird0.set(ylabel='Count - Damaging Strikes',xlabel='Wildlife Size');\nfig_bird0.set_title('The Frequency of Damaging Strikes over Wildlife Size');"
    },
    {
      "metadata": {
        "collapsed": false,
        "_execution_state": "idle",
        "_uuid": "40dda2b7919e06e87ba01a3076e2e029eef9524b",
        "_cell_guid": "fd8cdfbf-7692-4767-ba4b-f4cd932d2634"
      },
      "outputs": [],
      "cell_type": "markdown",
      "execution_count": null,
      "source": "The two bar plots above suggest that large birds are more likely to cause damage. This is confirmed in the bar plot below showing damage rate over bird size."
    },
    {
      "metadata": {
        "collapsed": false,
        "_execution_state": "idle",
        "_uuid": "7923607c8abc232a59ac8e96f5b68f2927115b91",
        "_cell_guid": "2e2b08f8-5836-42fa-8e4a-9eab19840a93",
        "trusted": false
      },
      "outputs": [],
      "cell_type": "code",
      "execution_count": 20,
      "source": "# plot damage rate over Wildlife: Size\nfig_bird01 = sns.barplot(x=u'Wildlife: Size', y=u'Damage Rate', data=count_bird0)\nfig_bird01.set(xlabel='Wildlife: Size', ylabel='Damage Rate');\nfig_bird01.set_title('Damage Rate over Wildlife Size');"
    },
    {
      "metadata": {
        "collapsed": false,
        "_execution_state": "idle",
        "_uuid": "c9172a4a10503f72ded72b56f55dfc2362263859",
        "_cell_guid": "82360776-fad3-401e-b881-bfaf579ac050"
      },
      "outputs": [],
      "cell_type": "markdown",
      "execution_count": null,
      "source": "In sum, small birds are the most frequently involved in bird strikes, but medium and large birds cause damages more often. "
    },
    {
      "metadata": {
        "collapsed": false,
        "_execution_state": "idle",
        "_uuid": "e7c9dc7cf71d2af54f75d14dc8c40ef2bc9b37bf",
        "_cell_guid": "4fc65851-25d9-43ce-8c77-d587584797e5"
      },
      "outputs": [],
      "cell_type": "markdown",
      "execution_count": null,
      "source": "### What are the flight statuses during bird strikes? <a name=\"descriptive3\"></a>\n\nSeveral variables in the data set can be used to answer this question, including the altitude of the aircraft (_Altitude bin_ and _Feet above ground_), the phase of the flight (_When: Phase of flight_), the speed of the flight (_Speed (IAS) in knots_), and the distance of the aircraft from the airport (_Miles from airport_).\n\nFirst, altitude information of all strikes is listed in a table."
    },
    {
      "metadata": {
        "collapsed": false,
        "_execution_state": "idle",
        "_uuid": "6ed63ab31320ac4f037389161b741ec1431be931",
        "_cell_guid": "b0ddc344-100d-4f56-bef7-1b3b8dd6949a",
        "trusted": false
      },
      "outputs": [],
      "cell_type": "code",
      "execution_count": 21,
      "source": "# There are a lot of missing data in these variables, but since the phase of the flight is available \n# some remedy is done here by filling in reasonalble values\nbird.loc[ (bird['Miles from airport'].isnull()) & ( (bird['When: Phase of flight'] == 'Take-off run') |\n          (bird['When: Phase of flight'] == 'Parked') | (bird['When: Phase of flight'] == 'Taxi') |\n          (bird['When: Phase of flight'] == 'Landing Roll') ),'Miles from airport'] = 0\nbird.loc[ (bird['Feet above ground'].isnull()) & ( (bird['When: Phase of flight'] == 'Take-off run') |\n          (bird['When: Phase of flight'] == 'Parked') | (bird['When: Phase of flight'] == 'Taxi') |\n          (bird['When: Phase of flight'] == 'Landing Roll') ),'Feet above ground'] = 0"
    },
    {
      "metadata": {
        "collapsed": false,
        "_execution_state": "idle",
        "_uuid": "c4d139a788c3aa8709680492a0d1d15dd6fac21d",
        "_cell_guid": "4cb801db-b5cd-4cdb-a5ba-a92fee2f7807",
        "trusted": false
      },
      "outputs": [],
      "cell_type": "code",
      "execution_count": 22,
      "source": "DataFrame({'count' : bird.groupby( ['Altitude bin'] ).size()}).reset_index()"
    },
    {
      "metadata": {
        "collapsed": false,
        "_execution_state": "idle",
        "_uuid": "d6b5f631c611608809ddbbc1c86fca391811c148",
        "_cell_guid": "c0874eee-2e44-41fe-81f2-5f59670ba604"
      },
      "outputs": [],
      "cell_type": "markdown",
      "execution_count": null,
      "source": "The table below shows altitude information of damaging strikes:"
    },
    {
      "metadata": {
        "collapsed": false,
        "_execution_state": "idle",
        "_uuid": "f1aee949273f7f607811a812a30fcb8d6be1b27b",
        "_cell_guid": "0c432beb-6522-4c5f-89db-fe02434890ab",
        "trusted": false
      },
      "outputs": [],
      "cell_type": "code",
      "execution_count": 23,
      "source": "DataFrame({'count' : bird_dmg.groupby( ['Altitude bin'] ).size()}).reset_index()"
    },
    {
      "metadata": {
        "collapsed": false,
        "_execution_state": "idle",
        "_uuid": "70a5cfe84bd2c15dae1b60ebe2216819ca602bb2",
        "_cell_guid": "060124bc-037b-420c-a93f-ef62af03fd17"
      },
      "outputs": [],
      "cell_type": "markdown",
      "execution_count": null,
      "source": "Both tables above show that more than 2/3 of strikes (damaging and non-damaging) occur below 1000 feet. Below is a histogram of aircraft altitude for all bird strikes."
    },
    {
      "metadata": {
        "collapsed": false,
        "_execution_state": "idle",
        "_uuid": "2d0d18556abc0e6eaaee38d00a2f1f271b7a02ab",
        "_cell_guid": "11cb34ec-3743-47cd-be4b-58f4afcee2a3",
        "trusted": false
      },
      "outputs": [],
      "cell_type": "code",
      "execution_count": 24,
      "source": "# histogram of aircraft altitude information\nhist_altitude = sns.distplot(bird['Feet above ground'].dropna(),kde=False);\nhist_altitude.set_title('The Frequency of All Strikes over Aircraft Altitude');\nhist_altitude.set(ylabel='Count - All Strikes');"
    },
    {
      "metadata": {
        "collapsed": false,
        "_execution_state": "idle",
        "_uuid": "617b84edea628f1f68f74f0f0d841874b3a8b97f",
        "_cell_guid": "a28fad97-34f4-48d7-994c-18710bd1fd99"
      },
      "outputs": [],
      "cell_type": "markdown",
      "execution_count": null,
      "source": "A histogram of aircraft altitude is shown below for only damaging strikes:"
    },
    {
      "metadata": {
        "collapsed": false,
        "_execution_state": "idle",
        "_uuid": "8e9de80a9239a60aad3575aa3263c467d01c77aa",
        "_cell_guid": "b0b0ef0f-5f7d-4bea-9f9a-3a9e0a54faa2",
        "trusted": false
      },
      "outputs": [],
      "cell_type": "code",
      "execution_count": 25,
      "source": "# histogram of aircraft altitude information\nhist_altitude0 = sns.distplot(bird_dmg['Feet above ground'].dropna(),kde=False);\nhist_altitude0.set_title('The Frequency of Damaging Strikes over Aircraft Altitude');\nhist_altitude0.set(ylabel='Count - Damaging Strikes');"
    },
    {
      "metadata": {
        "collapsed": false,
        "_execution_state": "idle",
        "_uuid": "9c36c2dfe87a08a104ac90c7d11c22a90f9e9c70",
        "_cell_guid": "22aa9819-6c2a-4abb-ad38-ecaa387320d8",
        "trusted": false
      },
      "outputs": [],
      "cell_type": "code",
      "execution_count": 26,
      "source": "# rate of aircraft below 1000 and 5000 ft for all strikes\nrate_1000 = len( bird.loc[bird['Altitude bin']=='< 1000 ft','Altitude bin'] ) / len( bird.loc[(bird['Altitude bin']=='< 1000 ft') | (bird['Altitude bin']=='> 1000 ft'),'Altitude bin'] )\nrate_5000 = len( bird.loc[bird['Feet above ground']<5000,'Feet above ground'] ) / len( bird.loc[~(bird['Feet above ground'].isnull()),'Feet above ground'] )\n# rate of aircraft below 1000 and 5000 ft for damaging strikes\nrate_1000 = len( bird_dmg.loc[bird_dmg['Altitude bin']=='< 1000 ft','Altitude bin'] ) / len( bird_dmg.loc[(bird_dmg['Altitude bin']=='< 1000 ft') | (bird_dmg['Altitude bin']=='> 1000 ft'),'Altitude bin'] )\nrate_5000 = len( bird_dmg.loc[bird_dmg['Feet above ground']<5000,'Feet above ground'] ) / len( bird_dmg.loc[~(bird_dmg['Feet above ground'].isnull()),'Feet above ground'] )"
    },
    {
      "metadata": {
        "collapsed": false,
        "_execution_state": "idle",
        "_uuid": "33b2b3058839db916404123e3e2de933d40d3898",
        "_cell_guid": "2b182658-50cd-4911-bec3-a6f6baccce45"
      },
      "outputs": [],
      "cell_type": "markdown",
      "execution_count": null,
      "source": "The above data and plots show that most of the bird strikes happen at a low altitude, with 78.48% below 1000 feet and 95.21% below 5000 feet for all strikes, and 66.96% below 1000 feet and 92.04% below 5000 feet for damaging strikes. "
    },
    {
      "metadata": {
        "collapsed": false,
        "_execution_state": "idle",
        "_uuid": "3608b8abf0badabe080c37f1cfbf7f6694676a32",
        "_cell_guid": "22b127a2-5edc-4654-beb4-c835b4f439e1",
        "trusted": false
      },
      "outputs": [],
      "cell_type": "code",
      "execution_count": 27,
      "source": "count_phase = bird['When: Phase of flight'].value_counts()\nfig_count = sns.barplot(x=count_phase.index, y=count_phase)\nfig_count.set_xticklabels(labels=count_phase.index,rotation=30);\nfig_count.set(xlabel='Phase of Flight', ylabel='Counts - All Strikes');\nfig_count.set_title('The Frequency of All Strikes over Flight Status');"
    },
    {
      "metadata": {
        "collapsed": false,
        "_execution_state": "idle",
        "_uuid": "3cb609262509d2b9465dfe66c4ce3b9a1de1f570",
        "_cell_guid": "8972a2aa-ad39-481b-b744-5da934d0dd75"
      },
      "outputs": [],
      "cell_type": "markdown",
      "execution_count": null,
      "source": "The above bar plot nicely breaks down the timing of bird strikes. A similar plot is shown for damaging strikes."
    },
    {
      "metadata": {
        "collapsed": false,
        "_execution_state": "idle",
        "_uuid": "7b9c3b533fa349f6f0c6eb8fee1cfafbfffc3802",
        "_cell_guid": "128e8f24-76f7-4ed5-b363-bd0b0a6bb78b",
        "trusted": false
      },
      "outputs": [],
      "cell_type": "code",
      "execution_count": 28,
      "source": "count_phase0 = bird_dmg['When: Phase of flight'].value_counts()\nfig_count0 = sns.barplot(x=count_phase0.index, y=count_phase0)\nfig_count0.set_xticklabels(labels=count_phase0.index,rotation=30);\nfig_count0.set(xlabel='Phase of Flight', ylabel='Counts - Damaging Strikes');\nfig_count0.set_title('The Frequency of Damaging Strikes over Flight Status');"
    },
    {
      "metadata": {
        "collapsed": false,
        "_execution_state": "idle",
        "_uuid": "d59bcd59646a6f1ddec76496b0997c68f3f71a82",
        "_cell_guid": "6f22c8a3-314d-4c61-ab0e-1ab2a7fedde3"
      },
      "outputs": [],
      "cell_type": "markdown",
      "execution_count": null,
      "source": "The two bar plots above further show that most of the strikes occur during take-off and landing, especially the _Approach_ phase. \n\nIt is intriguing that the frequency during _Approach_ is higher than any other phases. It could be that the planes are still some distance away from the airport, where some countermeasures of bird strikes are in place. To check if this is the case, I plot the altitude of the plane and the distance from the airport over the flight phase in the two boxplots below. "
    },
    {
      "metadata": {
        "collapsed": false,
        "_execution_state": "idle",
        "_uuid": "d120025ef4037ccf41d5b556c93406806d4945a9",
        "_cell_guid": "c1600b5d-1a20-4530-a16a-3f24a979d3bf",
        "trusted": false
      },
      "outputs": [],
      "cell_type": "code",
      "execution_count": 29,
      "source": "flight_altitude = sns.boxplot(x=\"When: Phase of flight\", y=\"Feet above ground\", data=bird)\nflight_altitude.set_xticklabels(flight_altitude.get_xticklabels(), rotation=30);\nflight_altitude.set_title('Flight Altitude across Flight Status among All Strikes');"
    },
    {
      "metadata": {
        "collapsed": false,
        "_execution_state": "idle",
        "_uuid": "63026b51f42bb25b9a5842fa9a0f54c7d813e698",
        "_cell_guid": "84a98d39-669d-44a6-816c-6063e858930c",
        "trusted": false
      },
      "outputs": [],
      "cell_type": "code",
      "execution_count": 30,
      "source": "# one point stands out as the aircraft being 1200 miles from the airport in the Approach phase\n# which is unlikely and could be a data entry error, the 'Miles from airport' in this row is thus\n# replaced with NA, the boxplot is redrawn after the replacement\nbird.loc[bird['Miles from airport'] > 1200,'Miles from airport'] = np.nan\n\n# update bird_dmg as well\nbird_dmg = bird.loc[(bird['Effect: Indicated Damage'] != 'No damage') | \n                    (bird['Cost: Total $'] > 0) ]\n\n# re-draw the box plot\nflight_miles1 = sns.boxplot(x=\"When: Phase of flight\", y=\"Miles from airport\", data=bird) \nflight_miles1.set_xticklabels(labels=flight_miles1.get_xticklabels(),rotation=30);\nflight_miles1.set_title('Airplane-Airport Distance across Flight Status among All Strikes');"
    },
    {
      "metadata": {
        "collapsed": false,
        "_execution_state": "idle",
        "_uuid": "612166c7960c9a4d3a57c6473ee7ab6f46c45c47",
        "_cell_guid": "567c282a-de8d-466b-b208-f3d20d68201a"
      },
      "outputs": [],
      "cell_type": "markdown",
      "execution_count": null,
      "source": "The two box plots suggest that overall, aircrafts during the _Approach_ phase are indeed further away from the airport and higher in altitude than those in all other flight phases except the _En Route_ and _Descent_ phases.\n\nA scatter plot of aircraft altitude over distance from airport is shown below for all strikes:"
    },
    {
      "metadata": {
        "collapsed": false,
        "_execution_state": "idle",
        "_uuid": "00a7dafa31359e4a5d3550e7906c5cdcdcfa1573",
        "_cell_guid": "0fd0ba37-49df-46a3-9c2d-8b45e2044eda",
        "trusted": false
      },
      "outputs": [],
      "cell_type": "code",
      "execution_count": 31,
      "source": "bird1 = bird.loc[(~bird['Miles from airport'].isnull()) &\n                        (~bird['Feet above ground'].isnull()) ]\nplt.scatter(x='Miles from airport', y='Feet above ground', \n              data= bird1);\nplt.xlabel('Miles from Airport');\nplt.ylabel('Feet above Ground');\nplt.title('Flight Altitude over Airplane-Airport Distance among All Strikes');"
    },
    {
      "metadata": {
        "collapsed": false,
        "_execution_state": "idle",
        "_uuid": "e172bdb38ff52a73d13e83047d00e9905af0f8de",
        "_cell_guid": "37751da4-4b38-40fd-b33a-1b99eb645f3f"
      },
      "outputs": [],
      "cell_type": "markdown",
      "execution_count": null,
      "source": "A similar scatter plot of aircraft altitude over distance from airport is shown below for damaging strikes:"
    },
    {
      "metadata": {
        "collapsed": false,
        "_execution_state": "idle",
        "_uuid": "cb2fc9c5aa6ddb7312b7405e59c5c4bb2902429c",
        "_cell_guid": "4932dc1d-0880-4f28-8b54-cc56887220c9",
        "trusted": false
      },
      "outputs": [],
      "cell_type": "code",
      "execution_count": 32,
      "source": "bird10 = bird_dmg.loc[(~bird_dmg['Miles from airport'].isnull()) &\n                        (~bird_dmg['Feet above ground'].isnull()) ]\nplt.scatter(x='Miles from airport', y='Feet above ground', \n              data= bird10);\nplt.xlabel('Miles from Airport');\nplt.ylabel('Feet above Ground');\nplt.title('Flight Altitude over Airplane-Airport Distance among Damaging Strikes');"
    },
    {
      "metadata": {
        "collapsed": false,
        "_execution_state": "idle",
        "_uuid": "a01d3aeed7d3c238fd9471875d0e57e2099cb960",
        "_cell_guid": "5ca35940-ac53-4f24-9b58-929def08791d"
      },
      "outputs": [],
      "cell_type": "markdown",
      "execution_count": null,
      "source": "The two scatter plots above further confirm that bird strikes happen most often during takeoff or landing, and during low altitude flights. \n\nAnother metric regarding flight status is the speed of the aircraft. Below is a histogram of the speed for all strikes:"
    },
    {
      "metadata": {
        "collapsed": false,
        "_execution_state": "idle",
        "_uuid": "a94da813b4570169d507071a7feded670b5a7bad",
        "_cell_guid": "3175dbf5-be12-4b88-89fb-4d9c1a777223",
        "trusted": false
      },
      "outputs": [],
      "cell_type": "code",
      "execution_count": 33,
      "source": "# histogram of speed\n# the current record of airplane is 6082.834 knots, any entry higher than that is set as NA\nbird.loc[bird['Speed (IAS) in knots'] > 6100,'Speed (IAS) in knots'] = np.nan\nspeed = sns.distplot(bird['Speed (IAS) in knots'].dropna(),kde=False);\nspeed.set(xlabel='Speed in Knots', ylabel='Counts - All Strikes');\nspeed.set_title('The Frequency of All Strikes over Flight Speed');"
    },
    {
      "metadata": {
        "collapsed": false,
        "_execution_state": "idle",
        "_uuid": "b8d9bdb7523663c0db732cc99a2d3ed573430578",
        "_cell_guid": "e2f666f6-8bb5-4d9a-8de1-010efecbe50b"
      },
      "outputs": [],
      "cell_type": "markdown",
      "execution_count": null,
      "source": "Below is a histogram of the speed for damaging strikes. The speed range is much smaller compared to that of all strikes."
    },
    {
      "metadata": {
        "collapsed": false,
        "_execution_state": "idle",
        "_uuid": "1a457b5bea0231ecd8695a02a1ec627008c3815a",
        "_cell_guid": "0f4e07af-f88e-4f69-8ab3-41d3c1695e9a",
        "trusted": false
      },
      "outputs": [],
      "cell_type": "code",
      "execution_count": 34,
      "source": "# histogram of speed\nspeed0 = sns.distplot(bird_dmg['Speed (IAS) in knots'].dropna(),kde=False);\nspeed0.set(xlabel='Speed in Knots', ylabel='Counts - Damaging Strikes');\nspeed.set_title('The Frequency of Damaging Strikes over Flight Speed ');"
    },
    {
      "metadata": {
        "collapsed": false,
        "_execution_state": "idle",
        "_uuid": "6a3f1c29e5c3c9e41dbd7aeed6b0270c8f78a549",
        "_cell_guid": "e0ba6d1c-e333-44bc-9ffd-a11ba6cc6212"
      },
      "outputs": [],
      "cell_type": "markdown",
      "execution_count": null,
      "source": "Overall, bird strikes happen most often during takeoff or landing, especially approaching phase, and during low altitude and low speed flights. "
    },
    {
      "metadata": {
        "collapsed": false,
        "_execution_state": "idle",
        "_uuid": "c111350e3270fef4f86c03a364b9862c482ecdf7",
        "_cell_guid": "97227655-7f53-4776-8e73-26cf697b77b6"
      },
      "outputs": [],
      "cell_type": "markdown",
      "execution_count": null,
      "source": "### What are the geological locations of bird strikes? <a name=\"descriptive5\"></a>\n\n_Airport: Name_ will be analyzed for this question. The table below shows the top 10 airports of all bird strikes.  "
    },
    {
      "metadata": {
        "collapsed": false,
        "_execution_state": "idle",
        "_uuid": "c2f2fad32be8ec7deeb91ee29d12508b82847be5",
        "_cell_guid": "3b11a53e-7cc9-4964-baf4-6a20ea5b85f7",
        "trusted": false
      },
      "outputs": [],
      "cell_type": "code",
      "execution_count": 35,
      "source": "# top 10 airports among all strikes\ndf_location = pd.DataFrame({'count' : bird.groupby( ['Airport: Name'] ).size()}).reset_index()\ndf_location.sort_values(['count'], ascending=False).head(10)"
    },
    {
      "metadata": {
        "collapsed": false,
        "_execution_state": "idle",
        "_uuid": "4561c57a3cb7037e3e4e635f6c4bcd51af64b26f",
        "_cell_guid": "f87428a6-89ae-470f-b5e9-8a98280b8952"
      },
      "outputs": [],
      "cell_type": "markdown",
      "execution_count": 34,
      "source": "A similar list of top 10 airports among all damaging strikes is show below:"
    },
    {
      "metadata": {
        "collapsed": false,
        "_execution_state": "idle",
        "_uuid": "9d9549abbc4bb011b99bd5eb53ac1263b993b478",
        "_cell_guid": "d1395563-4562-4c9f-8add-76c4facc3c82",
        "trusted": false
      },
      "outputs": [],
      "cell_type": "code",
      "execution_count": 36,
      "source": "# top 10 airports among all damaging strikes\ndf_airport0 = pd.DataFrame({'count' : bird_dmg.groupby( ['Airport: Name'] ).size()}).reset_index()\ndf_airport0.sort_values(['count'], ascending=False).head(10)"
    },
    {
      "metadata": {
        "collapsed": false,
        "_execution_state": "idle",
        "_uuid": "c77450db0f4d1c45973c244800d7b8adcd15eef2",
        "_cell_guid": "46fa0cbb-8f15-4904-bbfe-f528be3c87f2"
      },
      "outputs": [],
      "cell_type": "markdown",
      "execution_count": 34,
      "source": "There are discrepancies between the two list. It would be good to examine the reasons behind the differences, e.g., why does Sacramento airport have such a high rate of damaging strikes? Is it because the airport happens to be in the route of migration for some medium and large-size bird species, or because the airport is not doing a good job controlling bird population, or simply because there are more air traffic in that state?\n\n### What times do bird strikes occur? <a name=\"descriptive6\"></a>\n\nThree variables, including _FlightDate_, _When: Time (HHMM)_, and _When: Time of day_, are used to answer this question. First, the flight date variable is engineered into two features: the year of the flight and the month of the flight. Year information can be used to understand the trend of bird strikes over time, while the month information along with migration input can be used to understand whether bird migration plays a key role in bird strikes.\n\nFirst, a heatmap of strike frequency over flight month and flight year is shown for all strikes:"
    },
    {
      "metadata": {
        "collapsed": false,
        "_execution_state": "idle",
        "_uuid": "bd827097c948f27026a2e3e419a23dd7061cb07a",
        "_cell_guid": "39ee1944-b0a0-4c42-bc03-4c326ba96be9",
        "trusted": false
      },
      "outputs": [],
      "cell_type": "code",
      "execution_count": 37,
      "source": "# month variable\nbird['Flight Month'] = pd.DatetimeIndex(bird['FlightDate']).month\n# year variable\nbird['Flight Year'] = pd.DatetimeIndex(bird['FlightDate']).year\n\n# subset the data with any damage or negative impact to the flight\nbird_dmg = bird.loc[(bird['Effect: Indicated Damage'] != 'No damage') | \n                    (bird['Cost: Total $'] > 0) ]"
    },
    {
      "metadata": {
        "collapsed": false,
        "_execution_state": "idle",
        "_uuid": "7dfff46ddd8baad1290226eed57ce63529b02d2c",
        "_cell_guid": "6a29ae6e-712e-4af1-8802-00721770d47b",
        "trusted": false
      },
      "outputs": [],
      "cell_type": "code",
      "execution_count": 38,
      "source": "# count over flight month and year\ncount_time = DataFrame({'count' : bird.groupby( ['Flight Month', 'Flight Year'] ).size()}).reset_index()\n# reshape frame\ncount_time_p=count_time.pivot(\"Flight Month\", \"Flight Year\", \"count\")\n# plot the frequency over month and year in a heat map\nplt.figure(figsize=(8, 7))\nheat_time = sns.heatmap(count_time_p);\nheat_time.set_title('The Frequency of All Strikes Over Flight Year and Month');"
    },
    {
      "metadata": {
        "collapsed": false,
        "_execution_state": "idle",
        "_uuid": "87ca7ff7791f6dd4b43f9200c4691ef344aba322",
        "_cell_guid": "19221afb-70cd-4e84-a637-a70435d6ec6b"
      },
      "outputs": [],
      "cell_type": "markdown",
      "execution_count": null,
      "source": "Then a heatmap of strike frequency over flight month and flight year is shown for damaging strikes only:"
    },
    {
      "metadata": {
        "collapsed": false,
        "_execution_state": "idle",
        "_uuid": "8144fd83671d6a1d40d0d7190dc3ec6876159396",
        "_cell_guid": "b508a756-ea93-4789-a001-cb85dde91d50",
        "trusted": false
      },
      "outputs": [],
      "cell_type": "code",
      "execution_count": 39,
      "source": "# count over flight month and year\ncount_time0 = DataFrame({'count' : bird_dmg.groupby( ['Flight Month', 'Flight Year'] ).size()}).reset_index()\n# reshape frame\ncount_time_p0=count_time0.pivot(\"Flight Month\", \"Flight Year\", \"count\")\n# plot the frequency over month and year in a heat map\nplt.figure(figsize=(8, 7))\nheat_time0 = sns.heatmap(count_time_p0);\nheat_time0.set_title('The Frequency of Damaging Strikes Over Flight Year and Month');"
    },
    {
      "metadata": {
        "collapsed": false,
        "_execution_state": "idle",
        "_uuid": "1896be2573102faa019416332a1f97a47c3853de",
        "_cell_guid": "53260967-8302-4520-97b4-7673cd34e184"
      },
      "outputs": [],
      "cell_type": "markdown",
      "execution_count": null,
      "source": "Together, the above analyses show that bird strikes happen mostly between July and October, with an increasing trend from year 2000 to year 2011. The increasing trend over the years could be due to increasing air traffic. Damaging strikes can also happen between March and May, with a relatively stable trend over the years.\n\nA histogram below shows the frequency of strikes over the time of the day in HHMM format:"
    },
    {
      "metadata": {
        "collapsed": false,
        "_execution_state": "idle",
        "_uuid": "d8593e4329a9223ab6091d2a5d238132b86eec27",
        "_cell_guid": "cc5844d6-de8c-488f-9ab0-aeb1a284b87f",
        "trusted": false
      },
      "outputs": [],
      "cell_type": "code",
      "execution_count": 40,
      "source": "# histogram of time information\nfig_time = sns.distplot(bird['When: Time (HHMM)'].dropna(),kde=False);\nfig_time.set(ylabel='Counts - All Strikes');\nfig_time.set_title('The Frequency of All Strikes Over Time of the Day');"
    },
    {
      "metadata": {
        "collapsed": false,
        "_execution_state": "idle",
        "_uuid": "7150c7d4350edd2d63920286f2e98ad87dc064fe",
        "_cell_guid": "78a99bd3-8672-4c89-a9d7-1b93b142a6d6"
      },
      "outputs": [],
      "cell_type": "markdown",
      "execution_count": null,
      "source": "A similar plot below shows a count of damaging strikes over time of the day in HHMM format:"
    },
    {
      "metadata": {
        "collapsed": false,
        "_execution_state": "idle",
        "_uuid": "4d00945685d1cac0c5210e29d1ffa5c2a09dc8fb",
        "_cell_guid": "8a68dcaa-af53-4a71-9c8b-d8be19309262",
        "trusted": false
      },
      "outputs": [],
      "cell_type": "code",
      "execution_count": 41,
      "source": "# histogram of time information\nfig_time0 = sns.distplot(bird_dmg['When: Time (HHMM)'].dropna(),kde=False);\nfig_time0.set(ylabel='Counts - Damaging Strikes');\nfig_time.set_title('The Frequency of Damaging Strikes Over Time of the Day');"
    },
    {
      "metadata": {
        "collapsed": false,
        "_execution_state": "idle",
        "_uuid": "b1cc1f8af16a6c992180d38122b843e07a9e13cf",
        "_cell_guid": "5d21fdc1-3ce7-43eb-ae43-855e05a8fdda"
      },
      "outputs": [],
      "cell_type": "markdown",
      "execution_count": null,
      "source": "The two heatmaps above suggest that bird strikes happen year-round, mostly between July and October, increasing in frequency from year 2000 to year 2011. Damaging strikes happen between March and May, as well as between July and October, with a relatively stable trend over the years, suggesting that countermeasures take effect over the years.\n\nAs to time of the day, histograms suggest that both damaging and non-damaging strikes occur mostly between 5am and 1am of the next day."
    },
    {
      "metadata": {
        "collapsed": false,
        "_execution_state": "idle",
        "_uuid": "070c9958ff73b16ff6b295e0f1baf0c927f6e54e",
        "_cell_guid": "2cdf832a-2e13-4572-9544-b4e1523840e1"
      },
      "outputs": [],
      "cell_type": "markdown",
      "execution_count": null,
      "source": "### What are the consequences of bird strikes? <a name=\"descriptive7\"></a>\n\nSeveral aspects of the consequences are considered, including financial cost (_Cost: Total \\$_) and damage (_Effect: Indicated Damage_).\n\nFirst, a histogram of total financial cost is shown below for all strikes. Note that the x axis is log-transformed so that the distribution is not too sparse toward the high end of cost. Only strikes with costs greater than $0 are included."
    },
    {
      "metadata": {
        "collapsed": false,
        "_execution_state": "idle",
        "_uuid": "7cc116af2f08715dda76149c57e54de9143ed0e9",
        "_cell_guid": "83ba9ab2-5e09-4089-9e26-5da454d1867f",
        "trusted": false
      },
      "outputs": [],
      "cell_type": "code",
      "execution_count": 42,
      "source": "# cost histogram\ncost = sns.distplot(np.log10(bird.loc[bird['Cost: Total $']>0,'Cost: Total $']),kde=False);\ncost.set(xlabel='Log 10 of Total Cost in Dollar', ylabel='Counts - All Strikes');\ncost.set_title('The Frequency of All Strikes Over Log Cost');"
    },
    {
      "metadata": {
        "collapsed": false,
        "_execution_state": "idle",
        "_uuid": "3e686768026493133da408d12c31685fa31ae7dd",
        "_cell_guid": "f2c9eff2-cd47-4ef1-a60c-5c3bf016647d"
      },
      "outputs": [],
      "cell_type": "markdown",
      "execution_count": null,
      "source": "A similar histogram is shown below for damaging strikes:"
    },
    {
      "metadata": {
        "collapsed": false,
        "_execution_state": "idle",
        "_uuid": "181143a68332efd8423de226e1509f8e7b8a8d4c",
        "_cell_guid": "b7158fde-506d-49e1-9d71-84860f96ef91",
        "trusted": false
      },
      "outputs": [],
      "cell_type": "code",
      "execution_count": 43,
      "source": "# cost histogram\ncost0 = sns.distplot(np.log10(bird_dmg.loc[bird_dmg['Cost: Total $']>0,'Cost: Total $']),kde=False);\ncost0.set(xlabel='Log 10 of Total Cost in Dollar', ylabel='Counts - Damaging Strikes');\ncost0.set_title('The Frequency of Damaging Strikes Over Log Cost');"
    },
    {
      "metadata": {
        "collapsed": false,
        "_execution_state": "idle",
        "_uuid": "a54e849a21c7e3c99e6d0a52891504f3f496bf27",
        "_cell_guid": "1dccdfe4-a323-40b3-bc58-2dcf265040ce"
      },
      "outputs": [],
      "cell_type": "markdown",
      "execution_count": null,
      "source": "The two histograms above are fairly similar, since most damaging strikes involve some sort of financial cost and vice versa. The table below shows a count of damage vs. no-damage strikes."
    },
    {
      "metadata": {
        "collapsed": false,
        "_execution_state": "idle",
        "_uuid": "95e5976364eee13322061298b7e8840c734c7a1d",
        "_cell_guid": "93117fc5-1def-4699-bf72-4e958068fa77",
        "trusted": false
      },
      "outputs": [],
      "cell_type": "code",
      "execution_count": 44,
      "source": "# damage count table\nDataFrame({'count' : bird.groupby( ['Effect: Indicated Damage'] ).size()}).reset_index()"
    },
    {
      "metadata": {
        "collapsed": false,
        "_execution_state": "idle",
        "_uuid": "e055a98965555810924c49eaf85212e36c7d9474",
        "_cell_guid": "6612d287-8e0d-40b7-868e-a0ac18b205ac"
      },
      "outputs": [],
      "cell_type": "markdown",
      "execution_count": null,
      "source": "Together, these statistics show that most of the strikes do not cause damages (92.41%). However, bird strikes can cost money and even human lives at times."
    },
    {
      "metadata": {
        "collapsed": false,
        "_execution_state": "idle",
        "_uuid": "ed2ae35626db342daead44368085ca72edf77bc9",
        "_cell_guid": "210708bb-1aa3-40d7-a8d9-edcf9567319c"
      },
      "outputs": [],
      "cell_type": "markdown",
      "execution_count": 35,
      "source": "## Inferential Statistics <a name=\"inferential\"></a>\n\nIn this section, damaging/non-damaging bird strikes will be classified using five models including Logistic Regression, Support Vector Machines, Random Forests, K-Nearest Neighbors, and Gaussian Naive Bayes. Training accuracy, testing accuracy, and cross-validation accuracy will be used to check the fit of the model.\n\nFirst, I will resample the data such that we have a balanced dataset. Given the large amount of missing values and the large sample size, entries with missing values are removed."
    },
    {
      "metadata": {
        "collapsed": false,
        "_execution_state": "idle",
        "_uuid": "e9fd46daee7ae9e267ba262793e8e8c268988059",
        "_cell_guid": "d2a16ad4-e69e-41f8-9307-8c795ace3df2",
        "trusted": false
      },
      "outputs": [],
      "cell_type": "code",
      "execution_count": 79,
      "source": "# add damage index\nbird['Damage'] = 0\nbird.loc[(bird['Effect: Indicated Damage'] != 'No damage') | \n                    (bird['Cost: Total $'] > 0) ,'Damage'] = 1\n\n# define independent and dependent variables\nX = ['Aircraft: Number of engines?',\n     'Wildlife: Size',\n     'When: Phase of flight','Feet above ground','Miles from airport','Speed (IAS) in knots',\n     'Flight Month','Flight Year','When: Time (HHMM)',\n     'Pilot warned of birds or wildlife?']\nY = ['Damage']\n\n# clean missing data, keep those with values on key metrics\nbird_keep = bird[np.concatenate((X,Y))].dropna(how='any')"
    },
    {
      "metadata": {
        "collapsed": false,
        "_execution_state": "idle",
        "_uuid": "a87c91c2f80b9d91de37e39f58609ec933759291",
        "_cell_guid": "07e74ba5-bda4-420d-b0c7-3f89250976d5",
        "trusted": false
      },
      "outputs": [],
      "cell_type": "code",
      "execution_count": 80,
      "source": "# list of damage indices\ndamage_index = np.array(bird_keep[bird_keep[\"Damage\"]==1].index)\n\n# getting the list of normal indices from the full dataset\nnormal_index = bird_keep[bird_keep[\"Damage\"]==0].index\n\nNo_of_damage = len(bird_keep[bird_keep[\"Damage\"]==1])\n\n# choosing random normal indices equal to the number of damaging strikes\nnormal_indices = np.array( np.random.choice(normal_index, No_of_damage, replace= False) )\n\n# concatenate damaging index and normal index to create a list of indices\nundersampled_indices = np.concatenate([damage_index, normal_indices])\n\n# define training and testing sets\n# choosing random indices equal to the number of damaging strikes\ntrain_indices = np.array( np.random.choice(undersampled_indices, No_of_damage, replace= False) )\ntest_indices = np.array([item for item in undersampled_indices if item not in train_indices])"
    },
    {
      "metadata": {
        "collapsed": false,
        "_execution_state": "idle",
        "_uuid": "0528401c5ebb2bacf8ec5a3ea89d93530afd6284",
        "_cell_guid": "07492934-5195-4985-b7b8-9205ab3d8962",
        "trusted": false
      },
      "outputs": [],
      "cell_type": "code",
      "execution_count": 81,
      "source": "# add dummy variables for categorical variables\nwildlife_dummies = pd.get_dummies(bird_keep['Wildlife: Size'])\nbird_keep = bird_keep.join(wildlife_dummies)\n\nphase_dummies = pd.get_dummies(bird_keep['When: Phase of flight'])\nbird_keep = bird_keep.join(phase_dummies)\n\nwarn_dummies = pd.get_dummies(bird_keep['Pilot warned of birds or wildlife?'])\nbird_keep = bird_keep.join(warn_dummies)\n\n#  convert engine number to numeric\nbird_keep['Aircraft: Number of engines?'] = pd.to_numeric(bird_keep['Aircraft: Number of engines?'])\n\n# scale variables before fitting our model to our dataset\n# flight year scaled by subtracting the minimum year\nbird_keep[\"Flight Year\"] = bird_keep[\"Flight Year\"] - min(bird_keep[\"Flight Year\"])\n# scale time by dividing 100 and center to the noon\nbird_keep[\"When: Time (HHMM)\"] = bird_keep[\"When: Time (HHMM)\"]/100-12\n# scale speed\nbird_keep[\"Speed (IAS) in knots\"] = scale( bird_keep[\"Speed (IAS) in knots\"], axis=0, with_mean=True, with_std=True, copy=False )"
    },
    {
      "metadata": {
        "collapsed": false,
        "_execution_state": "idle",
        "_uuid": "e14838e15f4b4a52011716a9ed94e75ab0847b4f",
        "_cell_guid": "b9f8df79-9172-4cc4-8cfd-cb66f7011bb7",
        "trusted": false
      },
      "outputs": [],
      "cell_type": "code",
      "execution_count": 83,
      "source": "# use the undersampled indices to build the undersampled_data dataframe\nundersampled_bird = bird_keep.loc[undersampled_indices, :]\n\n# drop original values after dummy variables added\nbird_use = undersampled_bird.drop(['Wildlife: Size','When: Phase of flight',\n     'Pilot warned of birds or wildlife?'],axis=1)"
    },
    {
      "metadata": {
        "collapsed": false,
        "_execution_state": "idle",
        "_uuid": "241924b3ec1c124f9dc81daf908ccec521642e12",
        "_cell_guid": "9c58068e-b1d2-4efb-ba6e-c0468efc1164"
      },
      "outputs": [],
      "cell_type": "markdown",
      "execution_count": null,
      "source": "The clean data set is separated to train and test data sets randomly. Below is a peek of the top 5 rows of the training data set."
    },
    {
      "metadata": {
        "collapsed": false,
        "_execution_state": "idle",
        "_uuid": "5a80861a77c46d0c4711ffceb8ebc5c5833c585b",
        "_cell_guid": "10167163-f7a5-4e0b-b158-b6f81ffa6c04",
        "trusted": false
      },
      "outputs": [],
      "cell_type": "code",
      "execution_count": 85,
      "source": "# define training and testing sets\n# choosing random indices equal to the number of damaging strikes\nX_train = bird_use.drop(\"Damage\",axis=1).loc[train_indices,]\nY_train = bird_use.loc[train_indices,'Damage']\nX_test = bird_use.drop(\"Damage\",axis=1).loc[test_indices,]\nY_test = bird_use.loc[test_indices,'Damage']\nX_test.head()"
    },
    {
      "metadata": {
        "collapsed": false,
        "_execution_state": "idle",
        "_uuid": "dcd93a80d1b007f18b6308535eb35e4b933090ae",
        "_cell_guid": "41d4d4b1-5171-4591-8502-3ee5714cdf20"
      },
      "outputs": [],
      "cell_type": "markdown",
      "execution_count": null,
      "source": "### Logistic Regression<a name=\"inferential1\"></a>"
    },
    {
      "metadata": {
        "collapsed": false,
        "_execution_state": "idle",
        "_uuid": "4499ab1f5bc98fea4597da60d69b2978d079f543",
        "_cell_guid": "659bafa9-c25d-42a4-99ad-d94158e47aff",
        "trusted": false
      },
      "outputs": [],
      "cell_type": "code",
      "execution_count": 86,
      "source": "# Logistic Regression\nlogreg = LogisticRegression()\nlogreg.fit(X_train, Y_train)\nY_pred = logreg.predict(X_test)\nprint('Training Accuracy:')\nlogreg.score(X_train, Y_train)"
    },
    {
      "metadata": {
        "collapsed": false,
        "_execution_state": "idle",
        "_uuid": "51c4a3434790ff2da55a9a75c8c44daeb4f3f43b",
        "_cell_guid": "f5901a2c-0ffa-4cb8-b595-3851e97fd4be",
        "trusted": false
      },
      "outputs": [],
      "cell_type": "code",
      "execution_count": 87,
      "source": "# generate evaluation metrics\nlogreg_t = metrics.accuracy_score(Y_test, Y_pred)\nprint('Testing Accuracy:')\nlogreg_t"
    },
    {
      "metadata": {
        "collapsed": false,
        "_execution_state": "idle",
        "_uuid": "b290372dbe6f5ef1ffef540a9648bac01965ec93",
        "_cell_guid": "1b064c30-b87c-42b8-8eaf-c1ca290385c8",
        "trusted": false
      },
      "outputs": [],
      "cell_type": "code",
      "execution_count": 88,
      "source": "# evaluate the model using 10-fold cross-validation\nscores_lr = cross_val_score(logreg, X_train, Y_train, scoring='accuracy', cv=10)\nprint('Cross-Validation Accuracy:')\nprint (scores_lr.mean())"
    },
    {
      "metadata": {
        "collapsed": false,
        "_execution_state": "idle",
        "_uuid": "a3c7eacf98d1f214c6a663637dd4924b7279167f",
        "_cell_guid": "276dd60e-28b8-42cb-b98d-1b937ece31fb"
      },
      "outputs": [],
      "cell_type": "markdown",
      "execution_count": null,
      "source": "### Support Vector Machines <a name=\"inferential2\"></a>"
    },
    {
      "metadata": {
        "collapsed": false,
        "_execution_state": "idle",
        "_uuid": "e4c57b94a3e7ffa79849413882b1148e1914f299",
        "_cell_guid": "f5e9e58a-792e-4c4b-8a90-5d81502b2e75",
        "trusted": false
      },
      "outputs": [],
      "cell_type": "code",
      "execution_count": 89,
      "source": "# Support Vector Machines\nsvc = SVC()\nsvc.fit(X_train, Y_train)\nY_pred = svc.predict(X_test)\nprint('Training Accuracy:')\nsvc.score(X_train, Y_train)"
    },
    {
      "metadata": {
        "collapsed": false,
        "_execution_state": "idle",
        "_uuid": "b3c41ee457de5d0a213c7040435761b2eb6faa26",
        "_cell_guid": "58a981da-be75-4ac0-a5d1-79411190ff90",
        "trusted": false
      },
      "outputs": [],
      "cell_type": "code",
      "execution_count": 90,
      "source": "# generate evaluation metrics\nsvc_t = metrics.accuracy_score(Y_test, Y_pred)\nprint('Testing Accuracy:')\nsvc_t"
    },
    {
      "metadata": {
        "collapsed": false,
        "_execution_state": "idle",
        "_uuid": "5e4d239b0a4603c751f4a449b0feed08e5c39c68",
        "_cell_guid": "97c27eda-0574-4ccd-aaba-356c6909aa91",
        "trusted": false
      },
      "outputs": [],
      "cell_type": "code",
      "execution_count": 91,
      "source": "# evaluate the model using 10-fold cross-validation\nscores_svc = cross_val_score(svc, X_train, Y_train, scoring='accuracy', cv=10)\nprint('Cross-Validation Accuracy:')\nprint (scores_svc.mean())"
    },
    {
      "metadata": {
        "collapsed": false,
        "_execution_state": "idle",
        "_uuid": "2c2e0e89579baecee042d0ad8171845594d05875",
        "_cell_guid": "1f634c77-ac50-415e-8a01-215b0be7144d"
      },
      "outputs": [],
      "cell_type": "markdown",
      "execution_count": null,
      "source": "### Random Forests <a name=\"inferential3\"></a>"
    },
    {
      "metadata": {
        "collapsed": false,
        "_execution_state": "idle",
        "_uuid": "afa82ce8e0765db1809d773fb26c1d433fad15f1",
        "_cell_guid": "8539ad03-895c-4450-9395-670ed44ba8a8",
        "trusted": false
      },
      "outputs": [],
      "cell_type": "code",
      "execution_count": 92,
      "source": "# Random Forests\nrf = RandomForestClassifier(n_estimators=100)\nrf.fit(X_train, Y_train)\nY_pred = rf.predict(X_test)\nprint('Training Accuracy:')\nrf.score(X_train, Y_train)"
    },
    {
      "metadata": {
        "collapsed": false,
        "_execution_state": "idle",
        "_uuid": "6383bee3639e66fd1ad41d64dfa4cb88ffcbbba3",
        "_cell_guid": "d83933a2-b34f-4cce-8cad-047a14c04ea3",
        "trusted": false
      },
      "outputs": [],
      "cell_type": "code",
      "execution_count": 93,
      "source": "# generate evaluation metrics\nrf_t = metrics.accuracy_score(Y_test, Y_pred)\nprint('Testing Accuracy:')\nrf_t"
    },
    {
      "metadata": {
        "collapsed": false,
        "_execution_state": "idle",
        "_uuid": "e7665ca29ed12e871267329ac3e60a220c6d0a83",
        "_cell_guid": "8b9573ee-e096-45b0-9f25-eec789cf8648",
        "trusted": false
      },
      "outputs": [],
      "cell_type": "code",
      "execution_count": 94,
      "source": "# evaluate the model using 10-fold cross-validation\nscores_rf = cross_val_score(rf, X_train, Y_train, scoring='accuracy', cv=10)\nprint('Cross-Validation Accuracy:')\nprint (scores_rf.mean())"
    },
    {
      "metadata": {
        "collapsed": false,
        "_execution_state": "idle",
        "_uuid": "e29dbfe08754a774a470f7500ac1c7c399d08358",
        "_cell_guid": "e79e0f00-cc60-456f-8956-73238a0a91d7"
      },
      "outputs": [],
      "cell_type": "markdown",
      "execution_count": null,
      "source": "### K-Nearest Neighbors Classifier <a name=\"inferential4\"></a>"
    },
    {
      "metadata": {
        "collapsed": false,
        "_execution_state": "idle",
        "_uuid": "508c192eecfb8237afb138961bd133eb9fa63a03",
        "_cell_guid": "fb8bc64e-e5b0-4583-bfff-a3f8013d59c0",
        "trusted": false
      },
      "outputs": [],
      "cell_type": "code",
      "execution_count": 107,
      "source": "# KNeighborsClassifier\nknn = KNeighborsClassifier(n_neighbors = 3)\nknn.fit(X_train, Y_train)\nY_pred = knn.predict(X_test)\nprint('Training Accuracy:')\nknn.score(X_train, Y_train)"
    },
    {
      "metadata": {
        "collapsed": false,
        "_execution_state": "idle",
        "_uuid": "67b446b4ca4834d3e6eaa0d0b87c5b91840884b2",
        "_cell_guid": "83e1e5e7-2dfd-4c8f-869f-9aaa2944d7a0",
        "trusted": false
      },
      "outputs": [],
      "cell_type": "code",
      "execution_count": 95,
      "source": "# generate evaluation metrics\nknn_t = metrics.accuracy_score(Y_test, Y_pred)\nprint('Testing Accuracy:')\nknn_t"
    },
    {
      "metadata": {
        "collapsed": false,
        "_execution_state": "idle",
        "_uuid": "dd1f0e10f77aa2073c36d5663522f4da81bf4973",
        "_cell_guid": "0260c96a-a550-4d46-92a4-b0e5ad863600",
        "trusted": false
      },
      "outputs": [],
      "cell_type": "code",
      "execution_count": 96,
      "source": "# evaluate the model using 10-fold cross-validation\nscores_knn = cross_val_score(knn, X_train, Y_train, scoring='accuracy', cv=10)\nprint('Cross-Validation Accuracy:')\nprint(scores_knn.mean())"
    },
    {
      "metadata": {
        "collapsed": false,
        "_execution_state": "idle",
        "_uuid": "92f81f2b8ab60fd8aad875a2707308babdaf9a58",
        "_cell_guid": "9b25efe7-8e4d-4188-b024-427c1b0bca55"
      },
      "outputs": [],
      "cell_type": "markdown",
      "execution_count": null,
      "source": "### Gaussian Naive Bayes <a name=\"inferential5\"></a>"
    },
    {
      "metadata": {
        "collapsed": false,
        "_execution_state": "idle",
        "_uuid": "3b91957fd621a868f6df4dd70e7c6c2622169dd3",
        "_cell_guid": "5639d62b-4eaf-440a-9cd1-aa029f592915",
        "trusted": false
      },
      "outputs": [],
      "cell_type": "code",
      "execution_count": 97,
      "source": "# Gaussian Naive Bayes\ngaussian = GaussianNB()\ngaussian.fit(X_train, Y_train)\nY_pred = gaussian.predict(X_test)\nprint('Training Accuracy:')\ngaussian.score(X_train, Y_train)"
    },
    {
      "metadata": {
        "collapsed": false,
        "_execution_state": "idle",
        "_uuid": "e0885811dc0cce059b7af4a61cf3b9d2215c4c4a",
        "_cell_guid": "0029d349-2e79-44c0-8d9f-c50b38ffd085",
        "trusted": false
      },
      "outputs": [],
      "cell_type": "code",
      "execution_count": 98,
      "source": "# generate evaluation metrics\ngaussian_t = metrics.accuracy_score(Y_test, Y_pred)\nprint('Testing Accuracy:')\ngaussian_t"
    },
    {
      "metadata": {
        "collapsed": false,
        "_execution_state": "idle",
        "_uuid": "a7c5f1df4704681d1b4067716dd85f297b505880",
        "_cell_guid": "8832ea57-c91c-42b2-9c66-577444636e37",
        "trusted": false
      },
      "outputs": [],
      "cell_type": "code",
      "execution_count": 99,
      "source": "# evaluate the model using 10-fold cross-validation\nscores_gaussian = cross_val_score(gaussian, X_train, Y_train, scoring='accuracy', cv=10)\nprint('Cross-Validation Accuracy:')\nprint (scores_gaussian.mean())"
    },
    {
      "metadata": {
        "collapsed": false,
        "_execution_state": "idle",
        "_uuid": "d15806fdf44d3acad401c7305c0ff311dee31aa2",
        "_cell_guid": "8b3d11e0-2dc0-4b63-a1e2-3c412acde9ae"
      },
      "outputs": [],
      "cell_type": "markdown",
      "execution_count": null,
      "source": "### Model Summary <a name=\"inferential6\"></a>"
    },
    {
      "metadata": {
        "collapsed": false,
        "_execution_state": "idle",
        "_uuid": "5ab9dded1adcb89d4e1868b42544266e47479d43",
        "_cell_guid": "e451d4c5-126d-4c2b-a011-5b2e9ec8e45d",
        "trusted": false
      },
      "outputs": [],
      "cell_type": "code",
      "execution_count": 109,
      "source": "train_acc = [logreg.score(X_train, Y_train), svc.score(X_train, Y_train), rf.score(X_train, Y_train),\n             knn.score(X_train, Y_train), gaussian.score(X_train, Y_train)]\ntest_acc = [logreg_t, svc_t, rf_t, knn_t, gaussian_t]\ncross_val_acc = [scores_lr.mean(), scores_svc.mean(), scores_rf.mean(), scores_knn.mean(), scores_gaussian.mean()]\nmodels = DataFrame({'Training Accuracy': train_acc, 'Testing Accuracy': test_acc, \n                    \"Cross-Validation Accuracy\": cross_val_acc})\nmodels.index = ['Logistic Regression','Support Vector Machines ','Random Forests','K-Nearest Neighbors','Gaussian Naive Bayes']\nmodels"
    },
    {
      "metadata": {
        "collapsed": false,
        "_execution_state": "idle",
        "_uuid": "3e7567d4d77bc148dd10ad74b2d25ccc32b2a13e",
        "_cell_guid": "a6082223-56e5-4d2b-ac8a-aebf9ae57e76",
        "trusted": false
      },
      "outputs": [],
      "cell_type": "code",
      "execution_count": 66,
      "source": "models1 = DataFrame({'Accuracy' : models.unstack()}).reset_index()\n# plot accuracies\nplt.figure(figsize=(8, 7))\nfig_models = sns.barplot(x='level_0', y='Accuracy', hue='level_1', data=models1);\nfig_models.set(xlabel='Accuracy Metric', ylabel='Accuracy');\nfig_models.set_title('The Accuracy of All Models Over Three Metrics');"
    },
    {
      "metadata": {
        "collapsed": false,
        "_execution_state": "idle",
        "_uuid": "fc4c98c14bf1e3d130d8cc3345bf62579b6b59d8",
        "_cell_guid": "1dfc367f-2296-4393-837b-b0e1a0e560a5"
      },
      "outputs": [],
      "cell_type": "markdown",
      "execution_count": null,
      "source": "Based on the cross-validation and testing accuracies, the two most important metrics in model prediction among the three considered here, the Logistic Regression model yields the best performance. \n\nIt is noteworthy that the Random Forests model performs slightly worse than the Logistic Regression on the metrics of cross-validation and testing accuracies. However, the Random Forests model has the highest training accuracy among all models. This suggests a potential model overfit.\n\nIn summary, the logistic regression model outperforms other models and can be chosen as a model for prediction and warning system for pilots and operators."
    },
    {
      "metadata": {
        "collapsed": false,
        "_execution_state": "idle",
        "_uuid": "5b1517d995c4b4ad22a0dc63fa30376f42064a0a",
        "_cell_guid": "32bb31ec-2ee8-4de0-a5a6-87d2f930f4b8"
      },
      "outputs": [],
      "cell_type": "markdown",
      "execution_count": null,
      "source": "### Correlation Coefficients <a name=\"inferential7\"></a>\n\nThe table below shows the coefficients, sorted by their absolute value in descending order."
    },
    {
      "cell_type": "code",
      "outputs": [],
      "execution_count": 102,
      "metadata": {
        "_execution_state": "idle",
        "collapsed": false,
        "_uuid": "42a29c6f2587421a39148fe03ed4a9fd19526235",
        "_cell_guid": "8dfcfa35-01fc-4a6e-aa7b-02b1895cb57a",
        "trusted": false
      },
      "source": "x=zip(X_train.columns, np.transpose(logreg.coef_))\nx1=pd.DataFrame(list(x))\nx1.head()"
    },
    {
      "metadata": {
        "collapsed": false,
        "_execution_state": "idle",
        "_uuid": "675e99fcf3a8b4691cd70230bc4ed63553c79f2b",
        "_cell_guid": "ae336352-eb41-43a7-9e48-0f6920c4dab6",
        "trusted": false
      },
      "outputs": [],
      "cell_type": "code",
      "execution_count": 104,
      "source": "# get Correlation Coefficient for each feature using Logistic Regression\nlogreg_df = pd.DataFrame(list(zip(X_train.columns, np.transpose(logreg.coef_))))\nlogreg_df.columns = ['Features','Coefficient Estimate']\nlogreg_df['sort'] = logreg_df['Coefficient Estimate'].abs()\nlogreg_df.sort_values(['sort'],ascending=0).drop('sort',axis=1).head(10)"
    },
    {
      "metadata": {
        "collapsed": false,
        "_execution_state": "idle",
        "_uuid": "469775fde5fdb6b39d23b5af99f6fd1570ed8dc1",
        "_cell_guid": "5ac4ffdb-bffd-4323-bc61-47bccd547d2b"
      },
      "outputs": [],
      "cell_type": "markdown",
      "execution_count": null,
      "source": "The table of top 10 most influential coefficient estimates suggest that bird size, population, weather, aircraft type, as well as the flight status all play roles in making bird strikes damaging events. "
    },
    {
      "metadata": {
        "collapsed": false,
        "_execution_state": "idle",
        "_uuid": "1036e3643c4ef5c2c2161f0bc1407030aa96421e",
        "_cell_guid": "49fbbb34-5196-4232-9f91-c347a7e7b661"
      },
      "outputs": [],
      "cell_type": "markdown",
      "execution_count": null,
      "source": "## Conclusions and Suggestions<a name=\"conclusion\"></a>\n\n1. Two-engine aircrafts are most frequently struck, but one-engine aircrafts are more prone to damage once struck. Such aircrafts should be equipped and operated with caution on this regard.\n2. Small birds are the most frequently involved in bird strikes, but medium and large birds are more damaging once involved. Airports built near migration route of medium to large-size birds should have more countermeasures in place.\n3. Bird strikes happen most often during takeoff or landing, especially the approach phase (when few countermeasures are in place), and during low altitude and low speed flights. Pilots should be informed with bird information during the approach phase if possible.\n4. Sacramento International Airport stands out as the airport with most damaging bird strikes. More information on the airport would be needed to understand the cause, e.g. bird migration routes, airport traffic, bird control measures etc.\n5. Bird strikes happen mostly between March to May, and July to October, between 5am and 1am of the next day. If resources are limited, detection and countermeasures should be optimized during such times to prevent bird strikes as much as possible.\n6. Most of the strikes do not cause damages. However, bird strikes can cost money and even human lives at times.\n7. Among the models tested, logistic regression model outperforms other models and can be chosen as a model for prediction and warning system for pilots and other operators. However, missing data is a huge issue with this data set, it would be useful to have the records as complete as possible so that a higher prediction accuracy can be achieved."
    }
  ],
  "nbformat_minor": 0,
  "nbformat": 4,
  "metadata": {
    "kernelspec": {
      "display_name": "Python 3",
      "language": "python",
      "name": "python3"
    },
    "language_info": {
      "name": "python",
      "version": "3.6.1",
      "mimetype": "text/x-python",
      "codemirror_mode": {
        "name": "ipython",
        "version": 3
      },
      "pygments_lexer": "ipython3",
      "nbconvert_exporter": "python",
      "file_extension": ".py"
    }
  }
}